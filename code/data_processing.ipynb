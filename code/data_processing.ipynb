{
 "cells": [
  {
   "cell_type": "markdown",
   "metadata": {},
   "source": [
    "## Import Required Libraries"
   ]
  },
  {
   "cell_type": "code",
   "execution_count": 15,
   "metadata": {},
   "outputs": [],
   "source": [
    "import torch\n",
    "from IPython.display import Image\n",
    "import matplotlib.pyplot as plt\n",
    "import shutil \n",
    "import os\n",
    "import warnings\n",
    "import cv2\n",
    "import stat\n",
    "\n",
    "# Suppress the specific FutureWarning\n",
    "warnings.filterwarnings(\"ignore\", message = \".*torch.cuda.amp.autocast.*\")"
   ]
  },
  {
   "cell_type": "markdown",
   "metadata": {},
   "source": [
    "## Convert Videos to Frames"
   ]
  },
  {
   "cell_type": "code",
   "execution_count": null,
   "metadata": {},
   "outputs": [],
   "source": [
    "# Extract frames from a video at a specified interval and save them in a specified output_folder\n",
    "def convert_video(video_path, output_folder, interval):\n",
    "\n",
    "    # Open the video file\n",
    "    video_file = cv2.VideoCapture(video_path)\n",
    "\n",
    "    # Get video frame rate\n",
    "    fps = int(video_file.get(cv2.CAP_PROP_FPS))\n",
    "\n",
    "    # Compute the frame interval (in frames, not seconds)\n",
    "    frame_interval = fps * interval\n",
    "\n",
    "    # Initialize frame count counter\n",
    "    frame_count = 0\n",
    "\n",
    "    while video_file.isOpened():\n",
    "\n",
    "        # Read the next frame\n",
    "        ret, frame = video_file.read()\n",
    "\n",
    "        # If the frame is not read correctly, break the loop\n",
    "        if not ret:\n",
    "            break\n",
    "\n",
    "        # Save frames at the specified interval\n",
    "        if frame_count % frame_interval == 0:\n",
    "            # Convert frame count to seconds\n",
    "            timestamp = int(frame_count / fps)\n",
    "\n",
    "            # Establihs a filename as the current timestamp \n",
    "            filename = os.path.join(output_folder, f\"{timestamp:05d}.jpg\")\n",
    "\n",
    "            # Write the frame to the output folder\n",
    "            cv2.imwrite(filename, frame)\n",
    "\n",
    "        # Increase the frame count\n",
    "        frame_count += 1\n",
    "\n",
    "    video_file.release()\n",
    "    \n",
    "\n",
    "\n",
    "# Clears the read-only attribute before deleting a file\n",
    "def remove_readonly(func, path, _):\n",
    "    os.chmod(path, stat.S_IWRITE)\n",
    "    func(path)\n",
    "\n",
    "\n",
    "\n",
    "# Process all videos in input_dir and save frames in output_dir\n",
    "def process_videos(input_dir, output_dir, interval_seconds, data_type, max_videos = None):\n",
    "\n",
    "    # If its exists, remove the output directory to ensure a fresh start\n",
    "    if os.path.exists(output_dir):\n",
    "        # Delete the directory and all contents\n",
    "        shutil.rmtree(output_dir, onerror = remove_readonly)  \n",
    "\n",
    "    # Create a new output directory\n",
    "    os.makedirs(output_dir, exist_ok = True)\n",
    "\n",
    "    # Initialize saved video count for a summary at the end\n",
    "    saved_videos = 0\n",
    "\n",
    "    # Loop through all video files in input directory\n",
    "    for video_name in os.listdir(input_dir):\n",
    "\n",
    "        # Stop after processing the specified number of videos\n",
    "        if max_videos != None and saved_videos >= max_videos:\n",
    "            break\n",
    "\n",
    "        # Establish a video path with the full filepath\n",
    "        video_path = os.path.join(input_dir, video_name)\n",
    "\n",
    "        # Check if the video file id valid\n",
    "        if os.path.isfile(video_path) and video_name.lower().endswith((\".mp4\")):\n",
    "\n",
    "            # Extract video name without .mp4 extension\n",
    "            video_id = os.path.splitext(video_name)[0]  \n",
    "\n",
    "            # Establish a separate folder for each video\n",
    "            output_folder = os.path.join(output_dir, video_id)  \n",
    "\n",
    "            # Check if the output folder exists, if not create it\n",
    "            if not os.path.exists(output_folder):\n",
    "                os.makedirs(output_folder)\n",
    "\n",
    "            # Convert video into frames with designated interval\n",
    "            convert_video(video_path, output_folder, interval_seconds)\n",
    "\n",
    "            # Incrase saved videos count\n",
    "            saved_videos += 1\n",
    "\n",
    "    # Print summary counts of saved frames\n",
    "    print(f\"Processed {saved_videos} {data_type} videos to {output_dir}\\n\")"
   ]
  },
  {
   "cell_type": "code",
   "execution_count": null,
   "metadata": {},
   "outputs": [
    {
     "name": "stdout",
     "output_type": "stream",
     "text": [
      "Processed 1500 Training videos to ../data/processed_data/train/\n",
      "\n",
      "Processed 1344 Testing videos to ../data/processed_data/test/\n",
      "\n"
     ]
    }
   ],
   "source": [
    "# Define input directories\n",
    "train_input_dir = \"../data/raw_data/train/\"\n",
    "test_input_dir = \"../data/raw_data/test/\"\n",
    "\n",
    "# Define output directories\n",
    "train_output_dir = \"../data/processed_data/train/\"\n",
    "test_output_dir = \"../data/processed_data/test/\"\n",
    "\n",
    "# Set frame extraction interval\n",
    "interval_seconds = 1\n",
    "\n",
    "# Create data_types\n",
    "training_data_type = \"Training\"\n",
    "testing_data_type = \"Testing\"\n",
    "\n",
    "# Process train and test videos\n",
    "process_videos(train_input_dir, train_output_dir, interval_seconds, training_data_type)\n",
    "#process_videos(test_input_dir, test_output_dir, interval_seconds, testing_data_type)"
   ]
  }
 ],
 "metadata": {
  "kernelspec": {
   "display_name": "dsan6600",
   "language": "python",
   "name": "python3"
  },
  "language_info": {
   "codemirror_mode": {
    "name": "ipython",
    "version": 3
   },
   "file_extension": ".py",
   "mimetype": "text/x-python",
   "name": "python",
   "nbconvert_exporter": "python",
   "pygments_lexer": "ipython3",
   "version": "3.10.16"
  }
 },
 "nbformat": 4,
 "nbformat_minor": 2
}
